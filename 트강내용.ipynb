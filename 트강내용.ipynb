{
  "nbformat": 4,
  "nbformat_minor": 0,
  "metadata": {
    "colab": {
      "name": "트강내용",
      "provenance": [],
      "authorship_tag": "ABX9TyOLKn57JvakeTx4VoV4nSfd",
      "include_colab_link": true
    },
    "kernelspec": {
      "name": "python3",
      "display_name": "Python 3"
    },
    "language_info": {
      "name": "python"
    }
  },
  "cells": [
    {
      "cell_type": "markdown",
      "metadata": {
        "id": "view-in-github",
        "colab_type": "text"
      },
      "source": [
        "<a href=\"https://colab.research.google.com/github/0404jyj/class2021Fall/blob/main/%ED%8A%B8%EA%B0%95%EB%82%B4%EC%9A%A9.ipynb\" target=\"_parent\"><img src=\"https://colab.research.google.com/assets/colab-badge.svg\" alt=\"Open In Colab\"/></a>"
      ]
    },
    {
      "cell_type": "code",
      "execution_count": null,
      "metadata": {
        "id": "dm0qmhuABdtA"
      },
      "outputs": [],
      "source": [
        ""
      ]
    },
    {
      "cell_type": "markdown",
      "source": [
        "# 딥러닝(인공신경망)의 발전\n",
        "\n",
        "---\n",
        "\n",
        "\n",
        "\n",
        "1.   인터넷의 발전으로 빅데이터 발전\n",
        "2.   그래픽카드를 중심으로 컴퓨터 성능 비약적 향상. 그래픽 카드는 행열 연산을 한다. \n",
        "3.   알고리즘의 개선\n",
        "\n",
        "---\n",
        "\n",
        "# 인공지능의 동향\n",
        "공룡기업들이 AI 관련 많은 연구를 진행중임.\n",
        "기업들이 데이터와 모델들을 만들어서 공개하는 중.  \n",
        "멀티 모달: DALL-E .CLIP\n",
        "\n",
        "AI가 AI를 만든다 .\n",
        "\n",
        "쉬운 AI 체험 교육\n",
        "\n",
        " \n",
        "\n",
        "\n",
        "\n",
        "\n"
      ],
      "metadata": {
        "id": "TDnqRANIBeki"
      }
    }
  ]
}