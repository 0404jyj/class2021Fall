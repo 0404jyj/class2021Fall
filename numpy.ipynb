{
  "nbformat": 4,
  "nbformat_minor": 0,
  "metadata": {
    "kernelspec": {
      "display_name": "Python 3",
      "language": "python",
      "name": "python3"
    },
    "language_info": {
      "codemirror_mode": {
        "name": "ipython",
        "version": 3
      },
      "file_extension": ".py",
      "mimetype": "text/x-python",
      "name": "python",
      "nbconvert_exporter": "python",
      "pygments_lexer": "ipython3",
      "version": "3.7.1"
    },
    "colab": {
      "name": "numpy.ipynb",
      "provenance": [],
      "include_colab_link": true
    }
  },
  "cells": [
    {
      "cell_type": "markdown",
      "metadata": {
        "id": "view-in-github",
        "colab_type": "text"
      },
      "source": [
        "<a href=\"https://colab.research.google.com/github/0404jyj/class2021Fall/blob/main/numpy.ipynb\" target=\"_parent\"><img src=\"https://colab.research.google.com/assets/colab-badge.svg\" alt=\"Open In Colab\"/></a>"
      ]
    },
    {
      "cell_type": "markdown",
      "metadata": {
        "id": "JcCdLoe_4bY7"
      },
      "source": [
        "### create nd arrays (≈matrices)"
      ]
    },
    {
      "cell_type": "markdown",
      "source": [
        ""
      ],
      "metadata": {
        "id": "m6hEvKJBfn6_"
      }
    },
    {
      "cell_type": "code",
      "metadata": {
        "id": "5ap7xyofShBB"
      },
      "source": [
        "import numpy as np"
      ],
      "execution_count": 5,
      "outputs": []
    },
    {
      "cell_type": "code",
      "metadata": {
        "id": "2rqpSPZCShBC",
        "colab": {
          "base_uri": "https://localhost:8080/"
        },
        "outputId": "00a455a7-ac2b-49dc-b3ba-43663588af82"
      },
      "source": [
        "x = np.array([1,2,3])\n",
        "print(x)\n",
        "print(type(x))\n",
        "print(x.shape)"
      ],
      "execution_count": null,
      "outputs": [
        {
          "output_type": "stream",
          "name": "stdout",
          "text": [
            "[1 2 3]\n",
            "<class 'numpy.ndarray'>\n",
            "(3,)\n"
          ]
        }
      ]
    },
    {
      "cell_type": "code",
      "source": [
        "x = np.array([[1,2,3],[4,5,6]])\n",
        "print(x)\n",
        "print(type(x))\n",
        "print(x.shape)"
      ],
      "metadata": {
        "id": "XIXNNg2ZgNTr",
        "outputId": "9eda13d9-8830-46e4-922d-137cbe07e266",
        "colab": {
          "base_uri": "https://localhost:8080/"
        }
      },
      "execution_count": null,
      "outputs": [
        {
          "output_type": "stream",
          "name": "stdout",
          "text": [
            "[[1 2 3]\n",
            " [4 5 6]]\n",
            "<class 'numpy.ndarray'>\n",
            "(2, 3)\n"
          ]
        }
      ]
    },
    {
      "cell_type": "code",
      "source": [
        "x = np.array([[[1,2,3],[4,5,6]],[[1,24,3],[4,35,6]]])\n",
        "print(x)\n",
        "print(type(x))\n",
        "print(x.shape)"
      ],
      "metadata": {
        "id": "wOqUm7AggpSl",
        "outputId": "3f3b92f0-e51d-4d86-958d-bf448020accf",
        "colab": {
          "base_uri": "https://localhost:8080/"
        }
      },
      "execution_count": null,
      "outputs": [
        {
          "output_type": "stream",
          "name": "stdout",
          "text": [
            "[[[ 1  2  3]\n",
            "  [ 4  5  6]]\n",
            "\n",
            " [[ 1 24  3]\n",
            "  [ 4 35  6]]]\n",
            "<class 'numpy.ndarray'>\n",
            "(2, 2, 3)\n"
          ]
        }
      ]
    },
    {
      "cell_type": "code",
      "metadata": {
        "id": "EjC88C75ShBC",
        "colab": {
          "base_uri": "https://localhost:8080/"
        },
        "outputId": "feaf6356-0ad3-4b81-9dc0-50c611713296"
      },
      "source": [
        "x = np.arange(0,10,2) # 0부터 9까지 2간격으로 숫자를 출력하라\n",
        "print(x)\n",
        "print(type(x))\n",
        "print(x.shape)"
      ],
      "execution_count": null,
      "outputs": [
        {
          "output_type": "stream",
          "name": "stdout",
          "text": [
            "[0 2 4 6 8]\n",
            "<class 'numpy.ndarray'>\n",
            "(5,)\n"
          ]
        }
      ]
    },
    {
      "cell_type": "code",
      "metadata": {
        "id": "-MwkCEjTShBC",
        "colab": {
          "base_uri": "https://localhost:8080/"
        },
        "outputId": "4523fc98-c4ea-41ae-b09a-a0c40ead8bec"
      },
      "source": [
        "x = np.linspace(0,10,6) #0에서 10까지 총 6개의 숫자를 등간격으로 만들어라\n",
        "print(x)\n",
        "print(type(x))\n",
        "print(x.shape)"
      ],
      "execution_count": null,
      "outputs": [
        {
          "output_type": "stream",
          "name": "stdout",
          "text": [
            "[ 0.  2.  4.  6.  8. 10.]\n",
            "<class 'numpy.ndarray'>\n",
            "(6,)\n"
          ]
        }
      ]
    },
    {
      "cell_type": "code",
      "metadata": {
        "id": "tjk79SQ27fNv",
        "colab": {
          "base_uri": "https://localhost:8080/"
        },
        "outputId": "983b3cdb-b0a0-413c-da53-3b6dfab1f04b"
      },
      "source": [
        "x = np.array([[1,2,3], [4,5,6]])\n",
        "print(x)\n",
        "print(type(x))\n",
        "print(x.shape)"
      ],
      "execution_count": null,
      "outputs": [
        {
          "output_type": "stream",
          "name": "stdout",
          "text": [
            "[[1 2 3]\n",
            " [4 5 6]]\n",
            "<class 'numpy.ndarray'>\n",
            "(2, 3)\n"
          ]
        }
      ]
    },
    {
      "cell_type": "code",
      "metadata": {
        "id": "C1ogg6iZ7yir",
        "colab": {
          "base_uri": "https://localhost:8080/"
        },
        "outputId": "d0a953bf-e83e-4e7f-d750-890728c96069"
      },
      "source": [
        "x = np.array([[[1,2,3], [4,5,6]], [[7,8,9], [10,11,12]]])\n",
        "print(x)\n",
        "print(type(x))\n",
        "print(x.shape)"
      ],
      "execution_count": null,
      "outputs": [
        {
          "output_type": "stream",
          "name": "stdout",
          "text": [
            "[[[ 1  2  3]\n",
            "  [ 4  5  6]]\n",
            "\n",
            " [[ 7  8  9]\n",
            "  [10 11 12]]]\n",
            "<class 'numpy.ndarray'>\n",
            "(2, 2, 3)\n"
          ]
        }
      ]
    },
    {
      "cell_type": "code",
      "metadata": {
        "id": "efgeNHtD8ZlT",
        "colab": {
          "base_uri": "https://localhost:8080/"
        },
        "outputId": "266d919e-2eeb-4031-b522-4bc3628d51f0"
      },
      "source": [
        "x = np.ones([2, 2, 3])\n",
        "print(x)\n",
        "print(type(x))\n",
        "print(x.shape)"
      ],
      "execution_count": null,
      "outputs": [
        {
          "output_type": "stream",
          "name": "stdout",
          "text": [
            "[[[1. 1. 1.]\n",
            "  [1. 1. 1.]]\n",
            "\n",
            " [[1. 1. 1.]\n",
            "  [1. 1. 1.]]]\n",
            "<class 'numpy.ndarray'>\n",
            "(2, 2, 3)\n"
          ]
        }
      ]
    },
    {
      "cell_type": "code",
      "metadata": {
        "id": "b_F-ccY08zzl",
        "colab": {
          "base_uri": "https://localhost:8080/"
        },
        "outputId": "d15eaaf4-c700-48fb-eb7c-e90ddeb458c5"
      },
      "source": [
        "x = np.zeros([2, 2, 3])\n",
        "print(x)\n",
        "print(type(x))\n",
        "print(x.shape)\n",
        "x.reshape(3,2,2)"
      ],
      "execution_count": null,
      "outputs": [
        {
          "output_type": "stream",
          "name": "stdout",
          "text": [
            "[[[0. 0. 0.]\n",
            "  [0. 0. 0.]]\n",
            "\n",
            " [[0. 0. 0.]\n",
            "  [0. 0. 0.]]]\n",
            "<class 'numpy.ndarray'>\n",
            "(2, 2, 3)\n"
          ]
        },
        {
          "output_type": "execute_result",
          "data": {
            "text/plain": [
              "array([[[0., 0.],\n",
              "        [0., 0.]],\n",
              "\n",
              "       [[0., 0.],\n",
              "        [0., 0.]],\n",
              "\n",
              "       [[0., 0.],\n",
              "        [0., 0.]]])"
            ]
          },
          "metadata": {},
          "execution_count": 28
        }
      ]
    },
    {
      "cell_type": "markdown",
      "metadata": {
        "id": "0hQuDJ5g9gpE"
      },
      "source": [
        "### create random numbers"
      ]
    },
    {
      "cell_type": "code",
      "metadata": {
        "id": "QRatmkx79otL"
      },
      "source": [
        "import matplotlib.pyplot as plt"
      ],
      "execution_count": 6,
      "outputs": []
    },
    {
      "cell_type": "code",
      "metadata": {
        "id": "z1oOAB6dShBD",
        "colab": {
          "base_uri": "https://localhost:8080/",
          "height": 846
        },
        "outputId": "d8c3fa00-e984-4fc1-c1a5-6d7bdb312678"
      },
      "source": [
        "x = np.random.normal(0, 1, 100) # 정규분포 만들어줌 (평균, 표준편차, 개수)\n",
        "print(x)   #e-01 은 10의 -1승이라는 소리다.\n",
        "plt.hist(x, bins=50)"
      ],
      "execution_count": 7,
      "outputs": [
        {
          "output_type": "stream",
          "name": "stdout",
          "text": [
            "[-0.53594134  0.80510161  0.15422446 -1.04986062 -0.69214771  1.34394932\n",
            " -0.45027192  0.40875804  2.3211218  -0.27974172  0.23355777  0.60940133\n",
            " -1.48491825  2.05075383  0.07972951 -0.13789486 -0.56293955 -0.40956045\n",
            " -0.6243044   0.06399676  0.58288365 -0.15536941 -1.8831743  -0.35890625\n",
            "  1.47477108 -0.96234285 -1.32666828  0.88931028  0.50867028  0.72597856\n",
            "  0.35609098  0.3444332  -0.63922342  1.91567539 -2.36833885 -0.65069721\n",
            "  0.72389308  0.24809488  2.21524314  0.03365584  0.36927029 -1.26291339\n",
            "  0.83904937 -0.78070163  0.99101277  0.19065925  0.42895954  0.62895846\n",
            " -0.76545023 -0.19061658 -1.20681022 -0.245632    0.92961438 -0.18807436\n",
            "  0.10577521  0.55818275 -0.39694243  0.96237878 -1.0063989   1.57523092\n",
            "  1.36830986  1.44683161 -0.92357412  3.00068235 -0.22191469  0.97123343\n",
            "  1.42742324 -1.03775312  0.34514203 -0.53367014  0.79206137 -1.0981298\n",
            " -1.97391879  0.6078899   0.5585077  -0.1584773  -1.10052026 -0.62560257\n",
            " -0.8881945   1.70531757  0.58866023 -0.32873172  0.63578212 -2.35578031\n",
            " -1.68231706  1.97673713  0.87468967  1.37364292  0.15604482 -1.43924721\n",
            "  0.48186768 -1.32069949 -0.41994919 -0.99480234  1.11460678 -0.05011416\n",
            "  0.18271802  0.68559954  0.80646694  0.93029558]\n"
          ]
        },
        {
          "output_type": "execute_result",
          "data": {
            "text/plain": [
              "(array([2., 0., 0., 1., 1., 0., 1., 0., 2., 2., 2., 2., 4., 3., 2., 2., 4.,\n",
              "        3., 5., 3., 5., 1., 3., 5., 2., 5., 3., 8., 3., 4., 4., 3., 1., 0.,\n",
              "        3., 3., 1., 1., 0., 1., 1., 1., 1., 1., 0., 0., 0., 0., 0., 1.]),\n",
              " array([-2.36833885, -2.26095842, -2.153578  , -2.04619758, -1.93881715,\n",
              "        -1.83143673, -1.7240563 , -1.61667588, -1.50929546, -1.40191503,\n",
              "        -1.29453461, -1.18715418, -1.07977376, -0.97239334, -0.86501291,\n",
              "        -0.75763249, -0.65025206, -0.54287164, -0.43549122, -0.32811079,\n",
              "        -0.22073037, -0.11334994, -0.00596952,  0.1014109 ,  0.20879133,\n",
              "         0.31617175,  0.42355218,  0.5309326 ,  0.63831302,  0.74569345,\n",
              "         0.85307387,  0.9604543 ,  1.06783472,  1.17521514,  1.28259557,\n",
              "         1.38997599,  1.49735642,  1.60473684,  1.71211726,  1.81949769,\n",
              "         1.92687811,  2.03425854,  2.14163896,  2.24901939,  2.35639981,\n",
              "         2.46378023,  2.57116066,  2.67854108,  2.78592151,  2.89330193,\n",
              "         3.00068235]),\n",
              " <a list of 50 Patch objects>)"
            ]
          },
          "metadata": {},
          "execution_count": 7
        },
        {
          "output_type": "display_data",
          "data": {
            "image/png": "[encoded data removed]",
            "text/plain": [
              "<Figure size 432x288 with 1 Axes>"
            ]
          },
          "metadata": {
            "needs_background": "light"
          }
        }
      ]
    },
    {
      "cell_type": "markdown",
      "metadata": {
        "id": "G0exvwBbShBE"
      },
      "source": [
        "### generate a sine curve"
      ]
    },
    {
      "cell_type": "code",
      "metadata": {
        "id": "HgQmRXzMShBE",
        "colab": {
          "base_uri": "https://localhost:8080/",
          "height": 297
        },
        "outputId": "5de82d63-45bb-4546-fe5c-669ae67c7618"
      },
      "source": [
        "theta = np.linspace(0, 2*np.pi, 100) \n",
        "#O도에서 2파이 까지 백개의 숫자를 넣어라\n",
        "# 100개의 숫자가 theta에 들어감. 점들의 개수가 몇개인가? 100개이다.\n",
        "s = np.sin(theta)\n",
        "plt.plot(theta, s, 'r:')\n",
        "plt.xlabel('angle(radian)') # x, y 축에 네이밍\n",
        "plt.ylabel('my first sine curve')"
      ],
      "execution_count": 11,
      "outputs": [
        {
          "output_type": "execute_result",
          "data": {
            "text/plain": [
              "Text(0, 0.5, 'my first sine curve')"
            ]
          },
          "metadata": {},
          "execution_count": 11
        },
        {
          "output_type": "display_data",
          "data": {
            "image/png": "[encoded data removed]",
            "text/plain": [
              "<Figure size 432x288 with 1 Axes>"
            ]
          },
          "metadata": {
            "needs_background": "light"
          }
        }
      ]
    },
    {
      "cell_type": "code",
      "metadata": {
        "id": "WTqXoomZBbBk",
        "colab": {
          "base_uri": "https://localhost:8080/",
          "height": 283
        },
        "outputId": "4b72a568-edff-45d1-bb30-0a5cbb166b55"
      },
      "source": [
        "theta2 = np.linspace(0, 2*np.pi, 100) + np.pi/2  #90도를 더해서 시작점을 90으로 바꿈\n",
        "s2 = np.sin(theta2)\n",
        "plt.plot(theta2, s2, 'g.')"
      ],
      "execution_count": 12,
      "outputs": [
        {
          "output_type": "execute_result",
          "data": {
            "text/plain": [
              "[<matplotlib.lines.Line2D at 0x7fc20a416990>]"
            ]
          },
          "metadata": {},
          "execution_count": 12
        },
        {
          "output_type": "display_data",
          "data": {
            "image/png": "[encoded data removed]",
            "text/plain": [
              "<Figure size 432x288 with 1 Axes>"
            ]
          },
          "metadata": {
            "needs_background": "light"
          }
        }
      ]
    },
    {
      "cell_type": "markdown",
      "source": [
        "위의 두 그래프의 차이를 위상차이, phase difference 라고 함."
      ],
      "metadata": {
        "id": "1VMqp0tEkLEx"
      }
    },
    {
      "cell_type": "code",
      "metadata": {
        "id": "TuH489v9BvQ7",
        "colab": {
          "base_uri": "https://localhost:8080/"
        },
        "outputId": "65f919f9-b30c-4ec2-883f-d140764b9e9e"
      },
      "source": [
        "np.corrcoef(s,s2) # 두 그래프의 동일성 체크 "
      ],
      "execution_count": 13,
      "outputs": [
        {
          "output_type": "execute_result",
          "data": {
            "text/plain": [
              "array([[1.00000000e+00, 2.41915449e-17],\n",
              "       [2.41915449e-17, 1.00000000e+00]])"
            ]
          },
          "metadata": {},
          "execution_count": 13
        }
      ]
    }
  ]
}