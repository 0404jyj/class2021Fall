{
  "nbformat": 4,
  "nbformat_minor": 0,
  "metadata": {
    "kernelspec": {
      "display_name": "Python 3",
      "language": "python",
      "name": "python3"
    },
    "language_info": {
      "codemirror_mode": {
        "name": "ipython",
        "version": 3
      },
      "file_extension": ".py",
      "mimetype": "text/x-python",
      "name": "python",
      "nbconvert_exporter": "python",
      "pygments_lexer": "ipython3",
      "version": "3.7.1"
    },
    "colab": {
      "name": "numpy.ipynb",
      "provenance": [],
      "include_colab_link": true
    }
  },
  "cells": [
    {
      "cell_type": "markdown",
      "metadata": {
        "id": "view-in-github",
        "colab_type": "text"
      },
      "source": [
        "<a href=\"https://colab.research.google.com/github/0404jyj/class2021Fall/blob/main/numpy.ipynb\" target=\"_parent\"><img src=\"https://colab.research.google.com/assets/colab-badge.svg\" alt=\"Open In Colab\"/></a>"
      ]
    },
    {
      "cell_type": "markdown",
      "metadata": {
        "id": "JcCdLoe_4bY7"
      },
      "source": [
        "### create nd arrays (≈matrices)"
      ]
    },
    {
      "cell_type": "markdown",
      "source": [
        ""
      ],
      "metadata": {
        "id": "m6hEvKJBfn6_"
      }
    },
    {
      "cell_type": "code",
      "metadata": {
        "id": "5ap7xyofShBB"
      },
      "source": [
        "import numpy as np"
      ],
      "execution_count": 19,
      "outputs": []
    },
    {
      "cell_type": "code",
      "metadata": {
        "id": "2rqpSPZCShBC",
        "colab": {
          "base_uri": "https://localhost:8080/"
        },
        "outputId": "00a455a7-ac2b-49dc-b3ba-43663588af82"
      },
      "source": [
        "x = np.array([1,2,3])\n",
        "print(x)\n",
        "print(type(x))\n",
        "print(x.shape)"
      ],
      "execution_count": 20,
      "outputs": [
        {
          "output_type": "stream",
          "name": "stdout",
          "text": [
            "[1 2 3]\n",
            "<class 'numpy.ndarray'>\n",
            "(3,)\n"
          ]
        }
      ]
    },
    {
      "cell_type": "code",
      "source": [
        "x = np.array([[1,2,3],[4,5,6]])\n",
        "print(x)\n",
        "print(type(x))\n",
        "print(x.shape)"
      ],
      "metadata": {
        "id": "XIXNNg2ZgNTr",
        "outputId": "9eda13d9-8830-46e4-922d-137cbe07e266",
        "colab": {
          "base_uri": "https://localhost:8080/"
        }
      },
      "execution_count": 21,
      "outputs": [
        {
          "output_type": "stream",
          "name": "stdout",
          "text": [
            "[[1 2 3]\n",
            " [4 5 6]]\n",
            "<class 'numpy.ndarray'>\n",
            "(2, 3)\n"
          ]
        }
      ]
    },
    {
      "cell_type": "code",
      "source": [
        "x = np.array([[[1,2,3],[4,5,6]],[[1,24,3],[4,35,6]]])\n",
        "print(x)\n",
        "print(type(x))\n",
        "print(x.shape)"
      ],
      "metadata": {
        "id": "wOqUm7AggpSl",
        "outputId": "3f3b92f0-e51d-4d86-958d-bf448020accf",
        "colab": {
          "base_uri": "https://localhost:8080/"
        }
      },
      "execution_count": 22,
      "outputs": [
        {
          "output_type": "stream",
          "name": "stdout",
          "text": [
            "[[[ 1  2  3]\n",
            "  [ 4  5  6]]\n",
            "\n",
            " [[ 1 24  3]\n",
            "  [ 4 35  6]]]\n",
            "<class 'numpy.ndarray'>\n",
            "(2, 2, 3)\n"
          ]
        }
      ]
    },
    {
      "cell_type": "code",
      "metadata": {
        "id": "EjC88C75ShBC",
        "colab": {
          "base_uri": "https://localhost:8080/"
        },
        "outputId": "feaf6356-0ad3-4b81-9dc0-50c611713296"
      },
      "source": [
        "x = np.arange(0,10,2) # 0부터 9까지 2간격으로 숫자를 출력하라\n",
        "print(x)\n",
        "print(type(x))\n",
        "print(x.shape)"
      ],
      "execution_count": 23,
      "outputs": [
        {
          "output_type": "stream",
          "name": "stdout",
          "text": [
            "[0 2 4 6 8]\n",
            "<class 'numpy.ndarray'>\n",
            "(5,)\n"
          ]
        }
      ]
    },
    {
      "cell_type": "code",
      "metadata": {
        "id": "-MwkCEjTShBC",
        "colab": {
          "base_uri": "https://localhost:8080/"
        },
        "outputId": "4523fc98-c4ea-41ae-b09a-a0c40ead8bec"
      },
      "source": [
        "x = np.linspace(0,10,6) #0에서 10까지 총 6개의 숫자를 등간격으로 만들어라\n",
        "print(x)\n",
        "print(type(x))\n",
        "print(x.shape)"
      ],
      "execution_count": 24,
      "outputs": [
        {
          "output_type": "stream",
          "name": "stdout",
          "text": [
            "[ 0.  2.  4.  6.  8. 10.]\n",
            "<class 'numpy.ndarray'>\n",
            "(6,)\n"
          ]
        }
      ]
    },
    {
      "cell_type": "code",
      "metadata": {
        "id": "tjk79SQ27fNv",
        "colab": {
          "base_uri": "https://localhost:8080/"
        },
        "outputId": "983b3cdb-b0a0-413c-da53-3b6dfab1f04b"
      },
      "source": [
        "x = np.array([[1,2,3], [4,5,6]])\n",
        "print(x)\n",
        "print(type(x))\n",
        "print(x.shape)"
      ],
      "execution_count": 25,
      "outputs": [
        {
          "output_type": "stream",
          "name": "stdout",
          "text": [
            "[[1 2 3]\n",
            " [4 5 6]]\n",
            "<class 'numpy.ndarray'>\n",
            "(2, 3)\n"
          ]
        }
      ]
    },
    {
      "cell_type": "code",
      "metadata": {
        "id": "C1ogg6iZ7yir",
        "colab": {
          "base_uri": "https://localhost:8080/"
        },
        "outputId": "d0a953bf-e83e-4e7f-d750-890728c96069"
      },
      "source": [
        "x = np.array([[[1,2,3], [4,5,6]], [[7,8,9], [10,11,12]]])\n",
        "print(x)\n",
        "print(type(x))\n",
        "print(x.shape)"
      ],
      "execution_count": 26,
      "outputs": [
        {
          "output_type": "stream",
          "name": "stdout",
          "text": [
            "[[[ 1  2  3]\n",
            "  [ 4  5  6]]\n",
            "\n",
            " [[ 7  8  9]\n",
            "  [10 11 12]]]\n",
            "<class 'numpy.ndarray'>\n",
            "(2, 2, 3)\n"
          ]
        }
      ]
    },
    {
      "cell_type": "code",
      "metadata": {
        "id": "efgeNHtD8ZlT",
        "colab": {
          "base_uri": "https://localhost:8080/"
        },
        "outputId": "266d919e-2eeb-4031-b522-4bc3628d51f0"
      },
      "source": [
        "x = np.ones([2, 2, 3])\n",
        "print(x)\n",
        "print(type(x))\n",
        "print(x.shape)"
      ],
      "execution_count": 27,
      "outputs": [
        {
          "output_type": "stream",
          "name": "stdout",
          "text": [
            "[[[1. 1. 1.]\n",
            "  [1. 1. 1.]]\n",
            "\n",
            " [[1. 1. 1.]\n",
            "  [1. 1. 1.]]]\n",
            "<class 'numpy.ndarray'>\n",
            "(2, 2, 3)\n"
          ]
        }
      ]
    },
    {
      "cell_type": "code",
      "metadata": {
        "id": "b_F-ccY08zzl",
        "colab": {
          "base_uri": "https://localhost:8080/"
        },
        "outputId": "d15eaaf4-c700-48fb-eb7c-e90ddeb458c5"
      },
      "source": [
        "x = np.zeros([2, 2, 3])\n",
        "print(x)\n",
        "print(type(x))\n",
        "print(x.shape)\n",
        "x.reshape(3,2,2)"
      ],
      "execution_count": 28,
      "outputs": [
        {
          "output_type": "stream",
          "name": "stdout",
          "text": [
            "[[[0. 0. 0.]\n",
            "  [0. 0. 0.]]\n",
            "\n",
            " [[0. 0. 0.]\n",
            "  [0. 0. 0.]]]\n",
            "<class 'numpy.ndarray'>\n",
            "(2, 2, 3)\n"
          ]
        },
        {
          "output_type": "execute_result",
          "data": {
            "text/plain": [
              "array([[[0., 0.],\n",
              "        [0., 0.]],\n",
              "\n",
              "       [[0., 0.],\n",
              "        [0., 0.]],\n",
              "\n",
              "       [[0., 0.],\n",
              "        [0., 0.]]])"
            ]
          },
          "metadata": {},
          "execution_count": 28
        }
      ]
    },
    {
      "cell_type": "markdown",
      "metadata": {
        "id": "0hQuDJ5g9gpE"
      },
      "source": [
        "### create random numbers"
      ]
    },
    {
      "cell_type": "code",
      "metadata": {
        "id": "QRatmkx79otL"
      },
      "source": [
        "import matplotlib.pyplot as plt"
      ],
      "execution_count": 6,
      "outputs": []
    },
    {
      "cell_type": "code",
      "metadata": {
        "id": "z1oOAB6dShBD",
        "colab": {
          "base_uri": "https://localhost:8080/",
          "height": 846
        },
        "outputId": "f91d4a4d-4fa7-49c3-fc97-a812e09b082e"
      },
      "source": [
        "x = np.random.normal(0, 1, 100) # (평균, 표준편차, 개수)\n",
        "print(x)\n",
        "plt.hist(x, bins=50)"
      ],
      "execution_count": 8,
      "outputs": [
        {
          "output_type": "stream",
          "name": "stdout",
          "text": [
            "[ 0.6214344   0.30691283 -0.04772521  0.02804291 -0.64086649  0.03113257\n",
            " -0.58529401  0.13356654  0.22931062  0.31523108  0.26193741 -0.42250239\n",
            "  0.75752586  0.75833155  0.71095172 -0.18165662 -0.81337456  0.85313255\n",
            " -2.08264675 -1.04767155 -2.0113446  -0.76796367  1.39300359 -0.85565407\n",
            " -1.2827309   0.08800594  1.02884011  1.53604834 -0.02607433  0.70407174\n",
            "  2.59341626  0.47518524 -1.19009207 -0.19488269  0.28804695 -0.13005581\n",
            "  0.8191811   0.20207772  0.82800424  0.78386491  1.51099915  1.24856895\n",
            "  0.85274876  0.87073713  0.38551907  0.31946961  0.09725025 -0.3146218\n",
            " -1.00636165 -2.14245247  0.50073893 -1.26991835 -1.07444911 -0.6378439\n",
            "  1.55521878 -1.03961497  0.93229722 -0.44120981 -1.36677247 -0.60414008\n",
            "  1.75821705  0.07983811  0.52033648 -0.34449083 -0.05198309  1.75477514\n",
            "  0.96519976  0.49221131 -0.96178346  1.97016799 -1.17627154  0.26607033\n",
            "  0.06435527 -1.64425266 -0.68658594 -0.16510722 -0.18516257  1.24870409\n",
            " -0.34163748  0.34416615  1.22625014  0.19075052  1.00123239 -0.01396084\n",
            " -0.30268755  1.3591171   0.50621881  0.6613137   0.20891104 -0.35651198\n",
            " -1.0435263  -0.15149929 -0.47501252  0.97655081  1.35383699  1.58698001\n",
            " -1.34745198 -0.26125238  0.97624427  0.121762  ]\n"
          ]
        },
        {
          "output_type": "execute_result",
          "data": {
            "text/plain": [
              "(array([2., 1., 0., 0., 0., 1., 0., 0., 2., 2., 2., 5., 1., 1., 2., 3., 2.,\n",
              "        2., 3., 4., 4., 2., 6., 5., 4., 7., 2., 4., 1., 2., 5., 5., 4., 2.,\n",
              "        0., 3., 2., 1., 2., 2., 0., 2., 0., 1., 0., 0., 0., 0., 0., 1.]),\n",
              " array([-2.14245247, -2.0477351 , -1.95301772, -1.85830035, -1.76358298,\n",
              "        -1.6688656 , -1.57414823, -1.47943085, -1.38471348, -1.2899961 ,\n",
              "        -1.19527873, -1.10056135, -1.00584398, -0.9111266 , -0.81640923,\n",
              "        -0.72169185, -0.62697448, -0.53225711, -0.43753973, -0.34282236,\n",
              "        -0.24810498, -0.15338761, -0.05867023,  0.03604714,  0.13076452,\n",
              "         0.22548189,  0.32019927,  0.41491664,  0.50963402,  0.60435139,\n",
              "         0.69906876,  0.79378614,  0.88850351,  0.98322089,  1.07793826,\n",
              "         1.17265564,  1.26737301,  1.36209039,  1.45680776,  1.55152514,\n",
              "         1.64624251,  1.74095989,  1.83567726,  1.93039463,  2.02511201,\n",
              "         2.11982938,  2.21454676,  2.30926413,  2.40398151,  2.49869888,\n",
              "         2.59341626]),\n",
              " <a list of 50 Patch objects>)"
            ]
          },
          "metadata": {},
          "execution_count": 8
        },
        {
          "output_type": "display_data",
          "data": {
            "image/png": "[encoded data removed]",
            "text/plain": [
              "<Figure size 432x288 with 1 Axes>"
            ]
          },
          "metadata": {
            "needs_background": "light"
          }
        }
      ]
    },
    {
      "cell_type": "markdown",
      "metadata": {
        "id": "G0exvwBbShBE"
      },
      "source": [
        "### generate a sine curve"
      ]
    },
    {
      "cell_type": "code",
      "metadata": {
        "id": "HgQmRXzMShBE",
        "colab": {
          "base_uri": "https://localhost:8080/",
          "height": 297
        },
        "outputId": "f9f51fed-e735-4726-b2da-2c90c2a7bae5"
      },
      "source": [
        "theta = np.linspace(0, 2*np.pi, 100) \n",
        "#O도에서 2파이 까지 백개의 숫자를 넣어라\n",
        "# 100개의 숫자가 theta에 들어감. 점들의 개수가 몇개인가? 100개이다.\n",
        "s = np.sin(theta)\n",
        "plt.plot(theta, s, 'r:')\n",
        "plt.xlabel('angle(radian)') # x, y 축에 네이밍\n",
        "plt.ylabel('my first sine curve')"
      ],
      "execution_count": 15,
      "outputs": [
        {
          "output_type": "execute_result",
          "data": {
            "text/plain": [
              "Text(0, 0.5, 'my first sine curve')"
            ]
          },
          "metadata": {},
          "execution_count": 15
        },
        {
          "output_type": "display_data",
          "data": {
            "image/png": "[encoded data removed]",
            "text/plain": [
              "<Figure size 432x288 with 1 Axes>"
            ]
          },
          "metadata": {
            "needs_background": "light"
          }
        }
      ]
    },
    {
      "cell_type": "code",
      "metadata": {
        "id": "WTqXoomZBbBk",
        "colab": {
          "base_uri": "https://localhost:8080/",
          "height": 283
        },
        "outputId": "4d2d5510-b5a6-4a2a-b003-3ff058df318a"
      },
      "source": [
        "theta2 = np.linspace(0, 2*np.pi, 100) + np.pi/2  #90도를 더해서 시작점을 90으로 바꿈\n",
        "s2 = np.sin(theta2)\n",
        "plt.plot(theta2, s2, 'g.')"
      ],
      "execution_count": 18,
      "outputs": [
        {
          "output_type": "execute_result",
          "data": {
            "text/plain": [
              "[<matplotlib.lines.Line2D at 0x7fe43c8100d0>]"
            ]
          },
          "metadata": {},
          "execution_count": 18
        },
        {
          "output_type": "display_data",
          "data": {
            "image/png": "[encoded data removed]",
            "text/plain": [
              "<Figure size 432x288 with 1 Axes>"
            ]
          },
          "metadata": {
            "needs_background": "light"
          }
        }
      ]
    },
    {
      "cell_type": "markdown",
      "source": [
        "위의 두 그래프의 차이를 위상차이, phase difference 라고 함."
      ],
      "metadata": {
        "id": "1VMqp0tEkLEx"
      }
    },
    {
      "cell_type": "code",
      "metadata": {
        "id": "TuH489v9BvQ7",
        "colab": {
          "base_uri": "https://localhost:8080/"
        },
        "outputId": "a1b1e9a7-3871-47da-8447-5d1b7deaeeca"
      },
      "source": [
        "np.corrcoef(s,s2)"
      ],
      "execution_count": null,
      "outputs": [
        {
          "output_type": "execute_result",
          "data": {
            "text/plain": [
              "array([[1.00000000e+00, 2.41915449e-17],\n",
              "       [2.41915449e-17, 1.00000000e+00]])"
            ]
          },
          "metadata": {},
          "execution_count": 54
        }
      ]
    }
  ]
}